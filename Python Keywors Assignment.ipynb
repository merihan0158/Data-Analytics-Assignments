{
 "cells": [
  {
   "cell_type": "code",
   "execution_count": 1,
   "id": "8cfbef23",
   "metadata": {},
   "outputs": [
    {
     "name": "stdout",
     "output_type": "stream",
     "text": [
      "Enter your Value15\n",
      "Positive number\n"
     ]
    }
   ],
   "source": [
    "# Q1.\n",
    "\n",
    "# if, else, and elif: These keywords are used for conditional statements. They allow you to control the flow of your program based on certain conditions\n",
    "\n",
    "x = float(input('Enter your Value'))\n",
    "\n",
    "if x > 0:\n",
    "    print(\"Positive number\")\n",
    "elif x == 0:\n",
    "    print(\"Zero\")\n",
    "else:\n",
    "    print(\"Negative number\")"
   ]
  },
  {
   "cell_type": "code",
   "execution_count": 2,
   "id": "5745b62c",
   "metadata": {},
   "outputs": [
    {
     "name": "stdout",
     "output_type": "stream",
     "text": [
      "apple\n",
      "banana\n",
      "orange\n"
     ]
    }
   ],
   "source": [
    "# for: Used for looping through a sequence (such as a list, tuple, or string) and executing a block of code for each element in the sequence.\n",
    "\n",
    "fruits = [\"apple\", \"banana\", \"orange\"]\n",
    "\n",
    "for i in fruits:\n",
    "    print(i)"
   ]
  },
  {
   "cell_type": "code",
   "execution_count": 3,
   "id": "a58ffe79",
   "metadata": {},
   "outputs": [
    {
     "name": "stdout",
     "output_type": "stream",
     "text": [
      "0\n",
      "1\n",
      "2\n",
      "3\n",
      "4\n"
     ]
    }
   ],
   "source": [
    "# while: Used for creating a loop that continues executing a block of code as long as a specified condition is true.\n",
    "\n",
    "count = 0\n",
    "while count < 5:\n",
    "    print(count)\n",
    "    count = count + 1"
   ]
  },
  {
   "cell_type": "code",
   "execution_count": 4,
   "id": "c81e1cb4",
   "metadata": {},
   "outputs": [
    {
     "name": "stdout",
     "output_type": "stream",
     "text": [
      "Hello, Rihan!\n"
     ]
    }
   ],
   "source": [
    "# def: Used for defining a function in Python. Functions are blocks of reusable code that can be called with a specific set of inputs.\n",
    "\n",
    "def Greet(name):\n",
    "    print(\"Hello, \" + name + \"!\")\n",
    "Greet(\"Rihan\")"
   ]
  },
  {
   "cell_type": "code",
   "execution_count": 5,
   "id": "efc4bd0a",
   "metadata": {},
   "outputs": [
    {
     "name": "stdout",
     "output_type": "stream",
     "text": [
      "8\n"
     ]
    }
   ],
   "source": [
    "# return: This keyword is used to exit a function and return a value. It allows a function to produce a result that can be used elsewhere in the code.\n",
    "\n",
    "def add_numbers(a, b):\n",
    "    return a + b\n",
    "\n",
    "result = add_numbers(3, 5)\n",
    "print(result)"
   ]
  },
  {
   "cell_type": "code",
   "execution_count": 7,
   "id": "697f98f0",
   "metadata": {},
   "outputs": [
    {
     "name": "stdout",
     "output_type": "stream",
     "text": [
      "22\n",
      "Rihan\n",
      "0\n",
      "105\n",
      "True\n"
     ]
    }
   ],
   "source": [
    "# Q2 \n",
    "\n",
    "# Rules for Defining Identifiers in Python\n",
    "# Identifiers in Python are user-defined names given to variables, functions, classes, modules, and other elements within your code. Choosing clear and meaningful names is essential for both readability and avoiding errors. Here's the breakdown of naming rules:\n",
    "\n",
    "# 1. Allowed Characters:\n",
    "\n",
    "# Letters (uppercase and lowercase): a, B, z\n",
    "# Digits: 0, 1, 9\n",
    "# Underscore: _\n",
    "# 2. First Character:\n",
    "\n",
    "# Must be a letter or underscore. Identifiers cannot begin with a digit.\n",
    "# 3. Reserved Words (Keywords):\n",
    "\n",
    "# Cannot be used as identifiers. These have special meanings in Python.\n",
    "# Example: if, else, for, while, def, class\n",
    "# 4. Case-Sensitivity:\n",
    "\n",
    "# Python is case-sensitive. name, Name, and NAME are considered different identifiers.\n",
    "# 5. Special Symbols:\n",
    "\n",
    "# Cannot be used except for the underscore _.\n",
    "# 6. Length:\n",
    "\n",
    "# No limit on the length of an identifier, but using excessively long names can hinder readability.\n",
    "\n",
    "\n",
    "\n",
    "variable_age = 22\n",
    "_name = \"Rihan\"\n",
    "counter456 = 0\n",
    "total_amount = 105\n",
    "is_valid = True\n",
    "\n",
    "print(variable_age)\n",
    "print(_name)\n",
    "print(counter123)\n",
    "print(total_amount)\n",
    "print(is_valid)"
   ]
  },
  {
   "cell_type": "code",
   "execution_count": 8,
   "id": "e547688b",
   "metadata": {},
   "outputs": [
    {
     "name": "stdout",
     "output_type": "stream",
     "text": [
      "Enter the length: 12\n",
      "Enter the width: 25\n",
      "The area of the rectangle is: 300.0\n"
     ]
    }
   ],
   "source": [
    "#Q3.\n",
    "\n",
    "# # Comments in Python are annotations within the code that are not executed by the interpreter. \n",
    "# They are added to provide explanations, clarifications, or documentation for the code. \n",
    "# Comments are useful for improving code readability, making it easier for others to understand the purpose and functionality of specific code segments.\n",
    "\n",
    "# In Python, there are two types of comments:\n",
    "\n",
    "# Single-line comments: These comments begin with the '#' symbol and extend to the end of the line.Single-line comments: These comments begin with the '#' symbol and extend to the end of the line.\n",
    "\n",
    "\"\"\"Multi-line comments (docstrings): While Python does not have a specific syntax for multi-line comments, \n",
    "you can use triple-quotes (''' or \" \" \") to create multi-line strings, \n",
    "which are often used as documentation strings or docstrings.\"\"\"\n",
    "\n",
    "# This is a simple program that calculates the area of a rectangle\n",
    "\n",
    "# Get the length and width from the user\n",
    "length = float(input(\"Enter the length: \"))\n",
    "width = float(input(\"Enter the width: \"))\n",
    "\n",
    "# Calculate the area\n",
    "area = length * width\n",
    "\n",
    "# Print the area\n",
    "print(\"The area of the rectangle is:\", area)"
   ]
  },
  {
   "cell_type": "code",
   "execution_count": 9,
   "id": "b1062eed",
   "metadata": {},
   "outputs": [
    {
     "name": "stdout",
     "output_type": "stream",
     "text": [
      "Enter Your Age: 22\n",
      "Eligible to vote\n"
     ]
    }
   ],
   "source": [
    "#Q4.\n",
    "# In Python, proper indentation is not just a matter of style; it is a fundamental aspect of the language's syntax. Python uses indentation to define blocks of code, such as those within loops, conditionals, functions, and classes. Indentation is a way of visually representing the structure and hierarchy of the code.\n",
    "\n",
    "# The key reasons why proper indentation is important in Python are:\n",
    "\n",
    "# Readability: Indentation makes the code more readable. It visually indicates the structure of the code and helps developers understand the relationships between different blocks of code. Properly indented code is easier to follow and maintain.\n",
    "\n",
    "# Code Blocks: Python relies on indentation to define code blocks. Statements with the same level of indentation are considered part of the same block. This eliminates the need for explicit braces or keywords to denote block boundaries, as seen in some other programming languages.\n",
    "\n",
    "# Consistency: Consistent indentation is crucial for maintaining a clean and organized codebase. It helps avoid confusion and ensures that the code is structured in a predictable way.\n",
    "\n",
    "# Error Prevention: Incorrect indentation can lead to syntax errors or, more importantly, can change the logic of the code. For example, changing the indentation of a line might cause it to be executed in a different context. Proper indentation helps prevent unintentional errors.\n",
    "\n",
    "\n",
    "# Correct indentation:\n",
    "\n",
    "age= int(input('Enter Your Age: '))\n",
    "if age >= 18:\n",
    "    print(\"Eligible to vote\")\n",
    "else:\n",
    "    print(\"Not eligible to vote\")"
   ]
  },
  {
   "cell_type": "code",
   "execution_count": 10,
   "id": "6fc91af6",
   "metadata": {},
   "outputs": [
    {
     "ename": "IndentationError",
     "evalue": "expected an indented block after 'if' statement on line 2 (3038987211.py, line 3)",
     "output_type": "error",
     "traceback": [
      "\u001b[1;36m  Cell \u001b[1;32mIn[10], line 3\u001b[1;36m\u001b[0m\n\u001b[1;33m    print(\"Eligible to vote\")  # This line should be indented\u001b[0m\n\u001b[1;37m    ^\u001b[0m\n\u001b[1;31mIndentationError\u001b[0m\u001b[1;31m:\u001b[0m expected an indented block after 'if' statement on line 2\n"
     ]
    }
   ],
   "source": [
    "# Incorrect indentation (causes an error):\n",
    "if age >= 18:\n",
    "print(\"Eligible to vote\")  # This line should be indented\n",
    "else:\n",
    "    print(\"Not eligible to vote\")"
   ]
  },
  {
   "cell_type": "code",
   "execution_count": 11,
   "id": "3e110a3c",
   "metadata": {},
   "outputs": [
    {
     "ename": "IndentationError",
     "evalue": "expected an indented block after 'for' statement on line 6 (3104808444.py, line 7)",
     "output_type": "error",
     "traceback": [
      "\u001b[1;36m  Cell \u001b[1;32mIn[11], line 7\u001b[1;36m\u001b[0m\n\u001b[1;33m    print(i)         # Incorrect indentation\u001b[0m\n\u001b[1;37m    ^\u001b[0m\n\u001b[1;31mIndentationError\u001b[0m\u001b[1;31m:\u001b[0m expected an indented block after 'for' statement on line 6\n"
     ]
    }
   ],
   "source": [
    "#Q5.\n",
    "\n",
    "\"\"\"In Python, indentation is not just a matter of style; it is a fundamental part of the language's syntax and semantics. \n",
    "Incorrect indentation can lead to various issues, and in most cases, it results in a syntax error.\"\"\"\n",
    "\n",
    "for i in range(1, 6):\n",
    "print(i)         # Incorrect indentation"
   ]
  },
  {
   "cell_type": "code",
   "execution_count": 13,
   "id": "4a169c80",
   "metadata": {},
   "outputs": [
    {
     "name": "stdout",
     "output_type": "stream",
     "text": [
      "40\n"
     ]
    }
   ],
   "source": [
    "#Q6.\n",
    "\n",
    "#Expression:\n",
    "\n",
    "# An expression is a piece of code that produces a value.\n",
    "# It can consist of variables, constants, operators, and function calls.\n",
    "# Expressions are evaluated to produce a result.\n",
    "# Examples of expressions include arithmetic expressions, function calls, and any combination of values and operators that results in a value\n",
    "\n",
    "# Examples of expressions\n",
    "x = 15\n",
    "y = 25\n",
    "sum_result = x + y  # Arithmetic expression\n",
    "length = len(\"Hello\")  # Function call\n",
    "print(sum_result)"
   ]
  },
  {
   "cell_type": "code",
   "execution_count": 15,
   "id": "5f6c5112",
   "metadata": {},
   "outputs": [
    {
     "name": "stdout",
     "output_type": "stream",
     "text": [
      "Positive number\n",
      "0\n",
      "1\n",
      "2\n",
      "3\n",
      "4\n",
      "5\n",
      "6\n",
      "7\n",
      "8\n",
      "9\n"
     ]
    }
   ],
   "source": [
    "# Statement:\n",
    "\n",
    "# A statement is a complete line of code that performs an action.\n",
    "# Statements are often composed of expressions but can also include other elements like keywords or assignments.\n",
    "# Statements are executed by the Python interpreter to perform specific tasks.\n",
    "# Examples of statements include assignment statements, conditional statements (if, else), loop statements (for, while), and function definitions.\n",
    "\n",
    "# Examples of statements\n",
    "assignment_statement = x = 10  # Assignment statement\n",
    "if x > 0:  # Conditional statement\n",
    "    print(\"Positive number\")\n",
    "for i in range(10):  # Loop statement\n",
    "    print(i)"
   ]
  },
  {
   "cell_type": "code",
   "execution_count": null,
   "id": "d89d13fd",
   "metadata": {},
   "outputs": [],
   "source": []
  }
 ],
 "metadata": {
  "kernelspec": {
   "display_name": "Python 3 (ipykernel)",
   "language": "python",
   "name": "python3"
  },
  "language_info": {
   "codemirror_mode": {
    "name": "ipython",
    "version": 3
   },
   "file_extension": ".py",
   "mimetype": "text/x-python",
   "name": "python",
   "nbconvert_exporter": "python",
   "pygments_lexer": "ipython3",
   "version": "3.10.9"
  }
 },
 "nbformat": 4,
 "nbformat_minor": 5
}
