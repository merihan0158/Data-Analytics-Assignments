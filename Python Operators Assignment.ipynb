{
 "cells": [
  {
   "cell_type": "code",
   "execution_count": 3,
   "id": "0a3bb8af",
   "metadata": {},
   "outputs": [
    {
     "name": "stdout",
     "output_type": "stream",
     "text": [
      "25\n",
      "5\n",
      "150\n",
      "1.5\n"
     ]
    }
   ],
   "source": [
    "#Q1\n",
    "\n",
    "a = 15\n",
    "b = 10\n",
    "print(a+b)\n",
    "print(a-b)\n",
    "print(a*b)\n",
    "print(a/b)"
   ]
  },
  {
   "cell_type": "code",
   "execution_count": 11,
   "id": "c1706879",
   "metadata": {},
   "outputs": [
    {
     "name": "stdout",
     "output_type": "stream",
     "text": [
      "14\n",
      "8\n",
      "160\n",
      "1.6\n",
      "2.0\n",
      "4294967296.0\n",
      "0.0\n"
     ]
    }
   ],
   "source": [
    "#Q2\n",
    "\n",
    "x = 10\n",
    "x = x+2\n",
    "print(x+2)\n",
    "x = x-2\n",
    "print(x-2)\n",
    "x = x*4\n",
    "print(x*4)\n",
    "x = x/5\n",
    "print(x/5)\n",
    "x = x//2\n",
    "print(x//2)\n",
    "x = x**4\n",
    "print(x**4)\n",
    "x = x % 2\n",
    "print(x % 2)"
   ]
  },
  {
   "cell_type": "code",
   "execution_count": 17,
   "id": "618b5060",
   "metadata": {},
   "outputs": [
    {
     "name": "stdout",
     "output_type": "stream",
     "text": [
      "num1 is greater than num2\n"
     ]
    }
   ],
   "source": [
    "#Q3\n",
    "\n",
    "num1 = 3.5\n",
    "num2 = 3.0\n",
    "\n",
    "if num1 > num2:\n",
    "    print(\"num1 is greater than num2\")\n",
    "else:\n",
    "    print(\"num1 is less than num2\")"
   ]
  },
  {
   "cell_type": "code",
   "execution_count": 16,
   "id": "9b57c21a",
   "metadata": {},
   "outputs": [
    {
     "name": "stdout",
     "output_type": "stream",
     "text": [
      "num1 is less than num2\n"
     ]
    }
   ],
   "source": [
    "num1 = 5.6\n",
    "num2 = 5.8\n",
    "\n",
    "if num1 < num2:\n",
    "    print(\"num1 is less than num2\")\n",
    "else:\n",
    "    print(\"num1 is greater than num2\")"
   ]
  },
  {
   "cell_type": "code",
   "execution_count": 23,
   "id": "c21d804c",
   "metadata": {},
   "outputs": [
    {
     "name": "stdout",
     "output_type": "stream",
     "text": [
      "num1 is less than or equal to num2\n"
     ]
    }
   ],
   "source": [
    "num1 = 5.4\n",
    "num2 = 5.6\n",
    "\n",
    "if num1 >= num2:\n",
    "    print(\"num1 is greater than or equal to num2\")\n",
    "else:\n",
    "    print(\"num1 is less than or equal to num2\")"
   ]
  },
  {
   "cell_type": "code",
   "execution_count": 22,
   "id": "cdaf6d4e",
   "metadata": {},
   "outputs": [
    {
     "name": "stdout",
     "output_type": "stream",
     "text": [
      "num1 is grater than or equal to num2\n"
     ]
    }
   ],
   "source": [
    "num1 = 4.8\n",
    "num2 = 4.6\n",
    "\n",
    "if num1 <= num2:\n",
    "    print(\"num1 is less than or equal to num2\")\n",
    "else:\n",
    "        print(\"num1 is grater than or equal to num2\")"
   ]
  },
  {
   "cell_type": "code",
   "execution_count": 24,
   "id": "5e52ae78",
   "metadata": {},
   "outputs": [
    {
     "name": "stdout",
     "output_type": "stream",
     "text": [
      "num1 is equal to num2\n"
     ]
    }
   ],
   "source": [
    "num1 = 5.0\n",
    "num2 = 5.0\n",
    "\n",
    "if num1 == num2:\n",
    "    print(\"num1 is equal to num2\")\n",
    "else:\n",
    "    print(\"num2 is not equal to num2\")"
   ]
  },
  {
   "cell_type": "code",
   "execution_count": 25,
   "id": "ee297159",
   "metadata": {},
   "outputs": [
    {
     "name": "stdout",
     "output_type": "stream",
     "text": [
      "both x and y are greater than 0\n"
     ]
    }
   ],
   "source": [
    "#Q4\n",
    "\n",
    "x = 8\n",
    "y = 12\n",
    "\n",
    "if x > 0 and y > 0:\n",
    "    print(\"both x and y are greater than 0\")\n",
    "else:\n",
    "    print(\"both x and y are not greater than 0\")"
   ]
  },
  {
   "cell_type": "code",
   "execution_count": 27,
   "id": "ea8adfd0",
   "metadata": {},
   "outputs": [
    {
     "name": "stdout",
     "output_type": "stream",
     "text": [
      "you are between 18 and 55\n"
     ]
    }
   ],
   "source": [
    "age = 22\n",
    "\n",
    "if age < 18 or age > 55:\n",
    "    print(\"you are either under 18 or over 55\")\n",
    "else:\n",
    "    print(\"you are between 18 and 55\")"
   ]
  },
  {
   "cell_type": "code",
   "execution_count": 28,
   "id": "bd27c5ec",
   "metadata": {},
   "outputs": [
    {
     "name": "stdout",
     "output_type": "stream",
     "text": [
      "x and y are greater than 0\n"
     ]
    }
   ],
   "source": [
    "x = 15\n",
    "y = 20\n",
    "\n",
    "if not x > 0:\n",
    "    print(\"x is a negative number\")\n",
    "else:\n",
    "    print(\"x and y are greater than 0\")"
   ]
  },
  {
   "cell_type": "code",
   "execution_count": 29,
   "id": "2d0ac460",
   "metadata": {},
   "outputs": [
    {
     "name": "stdout",
     "output_type": "stream",
     "text": [
      "x and y are the same\n"
     ]
    }
   ],
   "source": [
    "#Q5\n",
    "\n",
    "x = 20\n",
    "y = 20\n",
    "\n",
    "if x is y:\n",
    "    print(\"x and y are the same\")\n",
    "else:\n",
    "    print(\"x and y are not same\")"
   ]
  },
  {
   "cell_type": "code",
   "execution_count": 35,
   "id": "47a8fbe6",
   "metadata": {},
   "outputs": [
    {
     "name": "stdout",
     "output_type": "stream",
     "text": [
      "Bitwise AND:  2\n",
      "Bitwise Or:  31\n",
      "Bitwise XOR:  29\n"
     ]
    }
   ],
   "source": [
    "#Q6\n",
    "\n",
    "a = 15\n",
    "b = 18\n",
    "\n",
    "bitwise_and = a & b\n",
    "bitwise_or = a | b\n",
    "bitwise_xor = a ^ b\n",
    "\n",
    "print('Bitwise AND: ', bitwise_and)\n",
    "print('Bitwise Or: ', bitwise_or)\n",
    "print('Bitwise XOR: ', bitwise_xor)"
   ]
  },
  {
   "cell_type": "code",
   "execution_count": 37,
   "id": "33b8e959",
   "metadata": {},
   "outputs": [
    {
     "name": "stdout",
     "output_type": "stream",
     "text": [
      "sign change of number:  -10\n"
     ]
    }
   ],
   "source": [
    "#Q7\n",
    "\n",
    "number = 10\n",
    "\n",
    "negative_num = -number\n",
    "\n",
    "print('sign change of number: ', negative_num)"
   ]
  },
  {
   "cell_type": "code",
   "execution_count": 38,
   "id": "af7ef272",
   "metadata": {},
   "outputs": [
    {
     "name": "stdout",
     "output_type": "stream",
     "text": [
      "pass\n"
     ]
    }
   ],
   "source": [
    "#Q8\n",
    "\n",
    "marks = 35\n",
    "\n",
    "if marks >= 35:\n",
    "    print(\"pass\")\n",
    "else:\n",
    "    print(\"fail\")"
   ]
  },
  {
   "cell_type": "code",
   "execution_count": 39,
   "id": "2b4d2320",
   "metadata": {},
   "outputs": [
    {
     "name": "stdout",
     "output_type": "stream",
     "text": [
      "adult\n"
     ]
    }
   ],
   "source": [
    "age = 22\n",
    "\n",
    "if age >= 18:\n",
    "    print('adult')\n",
    "else:\n",
    "    print('minor')"
   ]
  },
  {
   "cell_type": "code",
   "execution_count": null,
   "id": "70050328",
   "metadata": {},
   "outputs": [],
   "source": []
  }
 ],
 "metadata": {
  "kernelspec": {
   "display_name": "Python 3 (ipykernel)",
   "language": "python",
   "name": "python3"
  },
  "language_info": {
   "codemirror_mode": {
    "name": "ipython",
    "version": 3
   },
   "file_extension": ".py",
   "mimetype": "text/x-python",
   "name": "python",
   "nbconvert_exporter": "python",
   "pygments_lexer": "ipython3",
   "version": "3.10.9"
  }
 },
 "nbformat": 4,
 "nbformat_minor": 5
}
